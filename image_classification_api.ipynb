{
  "nbformat": 4,
  "nbformat_minor": 0,
  "metadata": {
    "colab": {
      "name": "image_classification_api.ipynb",
      "provenance": [],
      "authorship_tag": "ABX9TyPfIvL8gBIX/AmhLYjFsMxz",
      "include_colab_link": true
    },
    "kernelspec": {
      "display_name": "Python 3",
      "name": "python3"
    },
    "language_info": {
      "name": "python"
    }
  },
  "cells": [
    {
      "cell_type": "markdown",
      "metadata": {
        "id": "view-in-github",
        "colab_type": "text"
      },
      "source": [
        "<a href=\"https://colab.research.google.com/github/Nada-Nasser/images-classification/blob/main/image_classification_api.ipynb\" target=\"_parent\"><img src=\"https://colab.research.google.com/assets/colab-badge.svg\" alt=\"Open In Colab\"/></a>"
      ]
    },
    {
      "cell_type": "markdown",
      "metadata": {
        "id": "NGpaA8H2HVQL"
      },
      "source": [
        "## **Download All Needed packages**\n",
        "\n",
        "*   colabcode\n",
        "*   torchvision\n",
        "*   nlkt\n",
        "*   fastapi\n",
        "\n",
        "\n",
        "\n"
      ]
    },
    {
      "cell_type": "code",
      "metadata": {
        "id": "oNbQcKlD3prh"
      },
      "source": [
        "pip install colabcode"
      ],
      "execution_count": null,
      "outputs": []
    },
    {
      "cell_type": "code",
      "metadata": {
        "id": "XchERNpw4Smu"
      },
      "source": [
        "pip install torchvision"
      ],
      "execution_count": null,
      "outputs": []
    },
    {
      "cell_type": "code",
      "metadata": {
        "id": "3d8qp_Wp4Tmf"
      },
      "source": [
        "pip install nltk"
      ],
      "execution_count": null,
      "outputs": []
    },
    {
      "cell_type": "markdown",
      "metadata": {
        "id": "cKlCL1xWIzdW"
      },
      "source": [
        "## **Download image classes dataset**"
      ]
    },
    {
      "cell_type": "code",
      "metadata": {
        "id": "11OpJW6g4Xps"
      },
      "source": [
        "!wget https://raw.githubusercontent.com/Lasagne/Recipes/master/examples/resnet50/imagenet_classes.txt"
      ],
      "execution_count": null,
      "outputs": []
    },
    {
      "cell_type": "code",
      "metadata": {
        "id": "jG98TPdDw-7H"
      },
      "source": [
        "import nltk\n",
        "nltk.download('wordnet')"
      ],
      "execution_count": null,
      "outputs": []
    },
    {
      "cell_type": "markdown",
      "metadata": {
        "id": "t0Mg11V8JaLE"
      },
      "source": [
        "This code loads the images datasat in a list"
      ]
    },
    {
      "cell_type": "code",
      "metadata": {
        "id": "IHuZXjA8CCce"
      },
      "source": [
        "with open('imagenet_classes.txt') as f:\n",
        "  classes = [line.strip() for line in f.readlines()]"
      ],
      "execution_count": null,
      "outputs": []
    },
    {
      "cell_type": "code",
      "metadata": {
        "id": "7HaYZXs_0RfV"
      },
      "source": [
        "pip install fastapi"
      ],
      "execution_count": null,
      "outputs": []
    },
    {
      "cell_type": "markdown",
      "metadata": {
        "id": "UbU6YZJaJoM-"
      },
      "source": [
        "import all packages needed in generating public url"
      ]
    },
    {
      "cell_type": "code",
      "metadata": {
        "id": "Szo1Hp35zyjP"
      },
      "source": [
        "from colabcode import ColabCode\n",
        "from fastapi import FastAPI\n",
        "import uvicorn"
      ],
      "execution_count": null,
      "outputs": []
    },
    {
      "cell_type": "code",
      "metadata": {
        "id": "j6_ThkgB8sJu"
      },
      "source": [
        "cc=ColabCode(port=12000,code=False)"
      ],
      "execution_count": null,
      "outputs": []
    },
    {
      "cell_type": "markdown",
      "metadata": {
        "id": "MzFfTWuNKnst"
      },
      "source": [
        "## Receive Post request to classify the image included in its body\n",
        "\n",
        "Using **fastapi** lib, we create a path to be used in a post request url to call the function named ***classifyimage***, in the post request body, there should be a json object that has an image in 64-base format.\n",
        "request body ex.:\n",
        "```\n",
        "{\n",
        "  file:\"64-base encoded image\"\n",
        "}\n",
        "```\n",
        "\n",
        "in ***classifyimage*** function:\n",
        "\n",
        "*   Convert the 64-base encoded image to **png** file and save the generated image in \"imageToSave.png\" file\n",
        "*   call *get_animal_name* to get the animal name from the image using image recognition model\n",
        "\n"
      ]
    },
    {
      "cell_type": "code",
      "metadata": {
        "id": "2bZ2vg638tJ1"
      },
      "source": [
        "import base64\n",
        "from pydantic import BaseModel\n",
        "from PIL import Image\n",
        "\n",
        "class Data(BaseModel):\n",
        "    file: str\n",
        "\n",
        "app=FastAPI()\n",
        "\n",
        "@app.post(\"/classifyimage/\")\n",
        "def classifyimage(image64base : Data):\n",
        "  print(\"in classify\")\n",
        "  if(image64base.file == \"\"): \n",
        "    return [\"False\"]\n",
        "  \n",
        "  with open(\"imageToSave.png\", \"wb\") as fh:\n",
        "    fh.write(base64.b64decode(image64base.file))\n",
        "  img = Image.open(\"imageToSave.png\")\n",
        "\n",
        "  animal_name = get_animal_name(img)\n",
        "  animal_name = animal_name.replace(\" \", \"_\")\n",
        "  animal_name = animal_name.lower()\n",
        "  print(animal_name)\n",
        "  names = animal_name.split(\",_\")\n",
        "  t = Calssify()\n",
        "  return t.classify(names[0])"
      ],
      "execution_count": null,
      "outputs": []
    },
    {
      "cell_type": "code",
      "metadata": {
        "id": "YbijRF1xwscD"
      },
      "source": [
        "from nltk.corpus import wordnet as wn\n",
        "\n",
        "pet = wn.synset('domestic_animal.n.01')\n",
        "#pet = wn.synset('animal.n.01')\n",
        "entity = wn.synset('entity.n.01')\n",
        "bird = wn.synset('bird.n.01')\n",
        "\n",
        "class Animal:\n",
        "    PET  = 1\n",
        "    BIRD = 2\n",
        "    NONE = 3\n",
        "\n",
        "class Calssify:\n",
        "    def __init__(self):\n",
        "        self.found = Animal.NONE\n",
        "         \n",
        "    def _DFSUtil(self,node):\n",
        "        if(node == entity):\n",
        "            self.found = Animal.NONE\n",
        "            return\n",
        "        if(node == bird):\n",
        "            self.found = Animal.BIRD\n",
        "            return\n",
        "        if(node == pet):\n",
        "            self.found = Animal.PET\n",
        "            return               \n",
        "        for neighbour in node.hypernyms():\n",
        "            if node != entity:\n",
        "                self._DFSUtil(neighbour)  \n",
        "\n",
        "    def _DFS(self,node):\n",
        "        self._DFSUtil(node)\n",
        "        return self._printFound()\n",
        "        \n",
        "    def _printFound(self):\n",
        "        if self.found == Animal.PET:\n",
        "            print(\"IT IS A Pet\")\n",
        "            return [\"True\"]\n",
        "        if self.found == Animal.BIRD:\n",
        "            print(\"IT IS A BIRD\")\n",
        "            return [\"True\"]\n",
        "        if self.found == Animal.NONE:\n",
        "            print(\"NOT Domestic Animal\")\n",
        "            return [\"False\"]\n",
        "    \n",
        "    def classify(self,name):\n",
        "        self.found = Animal.NONE\n",
        "        if wn.synsets(name):\n",
        "            print(name)\n",
        "            name = name+\".n.01\"\n",
        "            node = wn.synset(name)\n",
        "            return self._DFS(node)\n",
        "        else:\n",
        "            print(\"NOT Animal\")\n",
        "            return [\"False\"]\n"
      ],
      "execution_count": null,
      "outputs": []
    },
    {
      "cell_type": "code",
      "metadata": {
        "id": "-JhOCmHUxVn7"
      },
      "source": [
        "from torchvision import models\n",
        "import torch\n",
        "\n",
        "alexnet = models.alexnet(pretrained=True)\n",
        "print(alexnet)\n",
        "\n",
        "from torchvision import transforms\n",
        "transform = transforms.Compose([            #[1]\n",
        "  #transforms.ToPILImage(),\n",
        " transforms.Resize(256),                    #[2]\n",
        " transforms.CenterCrop(224),                #[3]\n",
        " #transforms.RandomHorizontalFlip(), \n",
        " transforms.ToTensor(),                     #[4]\n",
        " transforms.Normalize(                      #[5]\n",
        " mean=[0.485, 0.456, 0.406],                #[6]\n",
        " std=[0.229, 0.224, 0.225]                  #[7]\n",
        " )])\n",
        "\n",
        "alexnet.eval()"
      ],
      "execution_count": null,
      "outputs": []
    },
    {
      "cell_type": "code",
      "metadata": {
        "id": "sWluOsIWxsR7"
      },
      "source": [
        "def get_animal_name(img):\n",
        "  img_t = transform(img)\n",
        "  batch_t = torch.unsqueeze(img_t, 0)\n",
        "  out = alexnet(batch_t)\n",
        "  print(out.shape)\n",
        "  \n",
        "  _, index = torch.max(out, 1)\n",
        "  #percentage = torch.nn.functional.softmax(out, dim=1)[0] * 100\n",
        "  #print(classes[index[0]], percentage[index[0]].item())\n",
        "  print(classes[index[0]]) \n",
        "  animal_name = classes[index[0]] # we need to convert all letters to lower case and replace spaces with underscore\n",
        "  return animal_name"
      ],
      "execution_count": null,
      "outputs": []
    },
    {
      "cell_type": "code",
      "metadata": {
        "id": "05vt4PzO1qF7"
      },
      "source": [
        "cc.run_app(app=app)"
      ],
      "execution_count": null,
      "outputs": []
    }
  ]
}